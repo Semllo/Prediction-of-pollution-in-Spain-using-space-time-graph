{
 "cells": [
  {
   "cell_type": "code",
   "execution_count": 1,
   "metadata": {},
   "outputs": [
    {
     "name": "stderr",
     "output_type": "stream",
     "text": [
      "2024-04-01 23:33:55,985 INFO Welcome to the CDS\n",
      "2024-04-01 23:33:55,986 INFO Sending request to https://cds.climate.copernicus.eu/api/v2/resources/reanalysis-era5-single-levels\n",
      "2024-04-01 23:33:56,058 INFO Request is queued\n",
      "2024-04-01 23:42:14,980 INFO Request is running\n",
      "2024-04-02 00:42:24,281 INFO Request is completed\n",
      "2024-04-02 00:42:24,281 INFO Downloading https://download-0005-clone.copernicus-climate.eu/cache-compute-0005/cache/data4/adaptor.mars.internal-1712011007.1427295-7466-9-4e719cf0-f3ad-43fa-a5a8-7bf4f5c3fff3.nc to Dades/datos_climaticos_era5_2020.nc (202.4M)\n",
      "2024-04-02 00:43:07,619 INFO Download rate 4.7M/s  \n",
      "c:\\Users\\marcs\\miniconda3\\Lib\\site-packages\\xarray\\coding\\times.py:667: FutureWarning: casting timedelta64[ns] values to int64 with .astype(...) is deprecated and will raise in a future version. Use .view(...) instead.\n"
     ]
    }
   ],
   "source": [
    "import cdsapi\n",
    "import time\n",
    "import xarray as xr\n",
    "\n",
    "c = cdsapi.Client(url='https://cds.climate.copernicus.eu/api/v2', key='')\n",
    "\n",
    "years_to_request = ['2018', '2019','2020', '2021', '2022']\n",
    "months = [str(month).zfill(2) for month in range(1, 13)]\n",
    "days = [str(day).zfill(2) for day in range(1, 32)]\n",
    "hours = [str(hour).zfill(2) + ':00' for hour in range(0, 24)]\n",
    "folder_path = 'Dades/'\n",
    "files = []\n",
    "\n",
    "for year in years_to_request:\n",
    "    filename = f'datos_climaticos_era5_{year}.nc'\n",
    "    full_path = folder_path + filename\n",
    "    files.append(full_path)  \n",
    "    c.retrieve(\n",
    "        'reanalysis-era5-single-levels',\n",
    "        {\n",
    "            'product_type': 'reanalysis',\n",
    "            'variable': [\n",
    "                '2m_temperature',\n",
    "                '10m_u_component_of_wind',\n",
    "                '10m_v_component_of_wind',\n",
    "                'surface_pressure',\n",
    "                'surface_solar_radiation_downwards',\n",
    "                'total_precipitation'\n",
    "            ],\n",
    "            'year': year,\n",
    "            'month': months,\n",
    "            'day': days,\n",
    "            'time': hours,\n",
    "            'area': [44, -10, 36, 5],  # Spain\n",
    "            'format': 'netcdf',\n",
    "        },\n",
    "        full_path\n",
    "    )\n",
    "    time.sleep(5)  \n",
    "\n",
    "ds_list = [xr.open_dataset(file) for file in files]\n",
    "combined_ds = xr.concat(ds_list, dim='time')\n",
    "combined_filename_drive = 'Dades/combinedERA5.nc'\n",
    "combined_ds.to_netcdf(combined_filename_drive)"
   ]
  },
  {
   "cell_type": "code",
   "execution_count": 4,
   "metadata": {},
   "outputs": [
    {
     "name": "stderr",
     "output_type": "stream",
     "text": [
      "c:\\Users\\marcs\\miniconda3\\Lib\\site-packages\\xarray\\coding\\times.py:667: FutureWarning: casting timedelta64[ns] values to int64 with .astype(...) is deprecated and will raise in a future version. Use .view(...) instead.\n"
     ]
    },
    {
     "data": {
      "text/plain": [
       "['Dades/datos_climaticos_era5_2018.nc',\n",
       " 'Dades/datos_climaticos_era5_2019.nc',\n",
       " 'Dades/datos_climaticos_era5_2020.nc',\n",
       " 'Dades/datos_climaticos_era5_2021.nc',\n",
       " 'Dades/datos_climaticos_era5_2022.nc']"
      ]
     },
     "execution_count": 4,
     "metadata": {},
     "output_type": "execute_result"
    }
   ],
   "source": [
    "years_to_request = ['2018', '2019','2020', '2021', '2022']\n",
    "months = [str(month).zfill(2) for month in range(1, 13)]\n",
    "days = [str(day).zfill(2) for day in range(1, 32)]\n",
    "hours = [str(hour).zfill(2) + ':00' for hour in range(0, 24)]\n",
    "folder_path = 'Dades/'\n",
    "files = []\n",
    "\n",
    "for year in years_to_request:\n",
    "    filename = f'datos_climaticos_era5_{year}.nc'\n",
    "    full_path = folder_path + filename\n",
    "    files.append(full_path)  \n",
    "\n",
    "ds_list = [xr.open_dataset(file) for file in files]\n",
    "combined_ds = xr.concat(ds_list, dim='time')\n",
    "combined_filename_drive = 'Dades/combinedERA5.nc'\n",
    "combined_ds.to_netcdf(combined_filename_drive)\n",
    "files"
   ]
  }
 ],
 "metadata": {
  "kernelspec": {
   "display_name": "base",
   "language": "python",
   "name": "python3"
  },
  "language_info": {
   "codemirror_mode": {
    "name": "ipython",
    "version": 3
   },
   "file_extension": ".py",
   "mimetype": "text/x-python",
   "name": "python",
   "nbconvert_exporter": "python",
   "pygments_lexer": "ipython3",
   "version": "3.12.2"
  }
 },
 "nbformat": 4,
 "nbformat_minor": 2
}
